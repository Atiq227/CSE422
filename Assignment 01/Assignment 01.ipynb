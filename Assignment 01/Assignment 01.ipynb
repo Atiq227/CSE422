{
  "nbformat": 4,
  "nbformat_minor": 0,
  "metadata": {
    "colab": {
      "provenance": []
    },
    "kernelspec": {
      "name": "python3",
      "display_name": "Python 3"
    },
    "language_info": {
      "name": "python"
    }
  },
  "cells": [
    {
      "cell_type": "code",
      "execution_count": null,
      "metadata": {
        "colab": {
          "base_uri": "https://localhost:8080/"
        },
        "id": "U22SzlCv87qv",
        "outputId": "efc76fd9-b25e-47bb-d78a-ab967e1e0018"
      },
      "outputs": [
        {
          "output_type": "stream",
          "name": "stdout",
          "text": [
            "Start node: Arad\n",
            "Destination: Bucharest\n",
            "Path: Arad -> Sibiu -> RimnicuVilcea -> Pitesti -> Bucharest\n",
            "Total Distance: 418\n"
          ]
        }
      ],
      "source": [
        "input_file = open('/content/Input file.txt', 'r')\n",
        "lines = input_file.readlines()\n",
        "gph={}\n",
        "for i in lines:\n",
        "  temp=i.strip().split(' ') #spliting each line by space\n",
        "  gph[temp[0]]=[temp[1]] #temp[0] is name of the node and temp[1] is the heuristic value which is being added as list\n",
        "  temp_list=[] #taking an empty list to store the neighbours and path value from the node\n",
        "  for j in range(2,len(temp)):\n",
        "    if j%2==0:\n",
        "      temp_list.append(temp[j]) #all the city are in even index\n",
        "    else:\n",
        "      temp_list.append(int(temp[j])) #all the path cost from the current node are in odd index\n",
        "  gph[temp[0]]=gph[temp[0]]+temp_list #value of the keys will be a list where 0 index will be it's own heuristic and other ones are neighbours and path cost\n",
        "def Astar(start,end,graph):\n",
        "  path=[] #for storing the path\n",
        "  distance=0 #for storing total path cost\n",
        "  path+=[start] #start city will be in the path\n",
        "  current=start #currently in the starting node\n",
        "  visited=[]#to track which nodes are visited\n",
        "  while True:\n",
        "    queue=[]#to keep track of neighbours\n",
        "    traveling_cost_list={}#to get path of the neighbours cost from the current node\n",
        "    if current==end:\n",
        "      for i in range(len(path)):\n",
        "        if int(graph[path[i]][0])==0 and int(i)!=int(len(path)-1): #chcecking the heuristic value is 0 of the last node\n",
        "              return 0,0\n",
        "\n",
        "      return path,distance\n",
        "      break\n",
        "\n",
        "    visited.append(current) #appending the current node to visinting\n",
        "    for j in range(1,len(graph[current]),2):\n",
        "      if graph[current][j] in visited: #checking if the node is already visited\n",
        "        continue\n",
        "      path_cost=int(graph[current][j+1]) #path cost of the current node from parent\n",
        "      traveling_cost_list[graph[current][j]]=path_cost #adding traveling cost and nodes in the dictionary\n",
        "      heu=graph[graph[current][j]][0] #heurisitc cost of current node\n",
        "      cost=path_cost+int(heu) #calculating total cost which is f(n)\n",
        "      queue.append((graph[current][j],cost))\n",
        "    if not traveling_cost_list: #if the dictionary is empty then no neighbours so no path\n",
        "      return 1,0\n",
        "\n",
        "    queue.sort(key=lambda x: x[1]) #sorting based on the f(n)\n",
        "    new_city,cost=queue[0] #first node after sorting will be new city\n",
        "    path+=[new_city] #adding to the path list\n",
        "    distance+=traveling_cost_list[new_city] #adding path cost\n",
        "    current=new_city # changing current city to new_city\n",
        "start = input(\"Start node: \")\n",
        "end = input(\"Destination: \")\n",
        "path,distance=Astar(start,end,gph)\n",
        "print(\"Path:\", end=' ')\n",
        "if path==0:\n",
        "  print(\"Goal Node Already Reached\")\n",
        "if path==1:\n",
        "  print(\"No Path Found\")\n",
        "if type(path)==list:\n",
        "  for i in range(len(path)):\n",
        "    if i!=len(path)-1:\n",
        "      print(path[i],end=\" -> \")\n",
        "    else:\n",
        "      print(path[i])\n",
        "print(\"Total Distance:\",distance)"
      ]
    }
  ]
}