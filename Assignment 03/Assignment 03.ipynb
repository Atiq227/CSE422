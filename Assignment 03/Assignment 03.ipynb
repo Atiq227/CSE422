{
  "nbformat": 4,
  "nbformat_minor": 0,
  "metadata": {
    "colab": {
      "provenance": []
    },
    "kernelspec": {
      "name": "python3",
      "display_name": "Python 3"
    },
    "language_info": {
      "name": "python"
    }
  },
  "cells": [
    {
      "cell_type": "markdown",
      "source": [
        "TASK 1"
      ],
      "metadata": {
        "id": "Ru4Df6JNgNRY"
      }
    },
    {
      "cell_type": "code",
      "execution_count": null,
      "metadata": {
        "colab": {
          "base_uri": "https://localhost:8080/"
        },
        "id": "xs5cqr4_gGjd",
        "outputId": "4742161a-7029-4133-89d4-61a9444fc9f5"
      },
      "outputs": [
        {
          "output_type": "stream",
          "name": "stdout",
          "text": [
            "0\n",
            "Game Winner: Scorpion\n",
            "Total Rounds Played: 3\n",
            "Winner of Round 1: Scorpion\n",
            "Winner of Round 2: Scorpion\n",
            "Winner of Round 3: Sub-Zero\n"
          ]
        }
      ],
      "source": [
        "import random\n",
        "from collections import deque\n",
        "class Node:\n",
        "  def __init__(self,value=None):\n",
        "    self.value=value\n",
        "    self.left=None\n",
        "    self.right=None\n",
        "\n",
        "def tree(current_depth,maximum_depth):\n",
        "    if current_depth>maximum_depth:\n",
        "      return None\n",
        "    node=Node()\n",
        "    if current_depth==maximum_depth:\n",
        "      node.value=random.choice([-1,1])\n",
        "    else:\n",
        "      node.value=0\n",
        "      node.left=tree(current_depth+1,maximum_depth)\n",
        "      node.right=tree(current_depth+1,maximum_depth)\n",
        "    return node\n",
        "\n",
        "def alpha_beta_pruning(tree,depth,alpha,beta,maximizing_player):\n",
        "  if depth==0 or (tree.left is None and tree.right is None):\n",
        "    return tree.value\n",
        "  if maximizing_player:\n",
        "    max_eval=-float('inf')\n",
        "    if tree.left:\n",
        "      max_eval=max(max_eval,alpha_beta_pruning(tree.left,depth-1,alpha,beta,False))\n",
        "    if tree.right:\n",
        "      max_eval=max(max_eval,alpha_beta_pruning(tree.right,depth-1,alpha,beta,False))\n",
        "    alpha=max(alpha,max_eval)\n",
        "    if beta<=alpha:\n",
        "      return max_eval\n",
        "    return max_eval\n",
        "  else:\n",
        "    min_eval=float('inf')\n",
        "    if tree.left:\n",
        "      min_eval=min(min_eval,alpha_beta_pruning(tree.left,depth-1,alpha,beta,True))\n",
        "    if tree.right:\n",
        "      min_eval=min(min_eval,alpha_beta_pruning(tree.right,depth-1,alpha,beta,True))\n",
        "    beta=min(alpha,min_eval)\n",
        "    if beta<=alpha:\n",
        "      return min_eval\n",
        "    return min_eval\n",
        "def mortal_kombat(first_attacker):\n",
        "  round=3\n",
        "  result=[]\n",
        "  sub_zero_wins=0\n",
        "  scorpion_wins=0\n",
        "  for i in range(round):\n",
        "    new_tree=tree(0,4)\n",
        "    out=alpha_beta_pruning(new_tree,4,-float('inf'),float('inf'),first_attacker)\n",
        "    if out==1:\n",
        "      sub_zero_wins+=1\n",
        "      result.append('Sub-Zero')\n",
        "    else:\n",
        "      scorpion_wins+=1\n",
        "      result.append('Scorpion')\n",
        "    first_attacker=1-first_attacker\n",
        "  if sub_zero_wins>scorpion_wins:\n",
        "    final_result= \"Sub-Zero\"\n",
        "  else:\n",
        "    final_result= \"Scorpion\"\n",
        "  print(f'Game Winner: {final_result}')\n",
        "  print(f'Total Rounds Played: {round}')\n",
        "  for i in range(len(result)):\n",
        "    print(f'Winner of Round {i+1}: {result[i]}')\n",
        "\n",
        "mortal_kombat(int(input()))"
      ]
    },
    {
      "cell_type": "markdown",
      "source": [
        "TASK 2"
      ],
      "metadata": {
        "id": "Y3W429WEgXyT"
      }
    },
    {
      "cell_type": "code",
      "source": [
        "class Node:\n",
        "  def __init__(self,value=None):\n",
        "    self.value=value\n",
        "    self.left=None\n",
        "    self.right=None\n",
        "\n",
        "root=Node(0)\n",
        "root.left=Node(0)\n",
        "root.right=Node(0)\n",
        "root.left.left=Node(0)\n",
        "root.left.right=Node(0)\n",
        "root.right.left=Node(0)\n",
        "root.right.right=Node(0)\n",
        "root.left.left.left=Node(3)\n",
        "root.left.left.right=Node(6)\n",
        "root.left.right.left=Node(2)\n",
        "root.left.right.right=Node(3)\n",
        "root.right.left.left=Node(7)\n",
        "root.right.left.right=Node(1)\n",
        "root.right.right.left=Node(2)\n",
        "root.right.right.right=Node(0)\n",
        "\n",
        "def dark_magic(tree,depth,alpha,beta,maximizing_player):\n",
        "  side=''\n",
        "  if depth==0 or (tree.left is None and tree.right is None):\n",
        "    return tree.value\n",
        "  if maximizing_player:\n",
        "    max_eval=-float('inf')\n",
        "    if tree.left:\n",
        "      left_val=dark_magic(tree.left,depth-1,alpha,beta,True)\n",
        "      if type(left_val)!=int:\n",
        "        side=left_val[0]\n",
        "        left_val=left_val[1]\n",
        "      if left_val>max_eval:\n",
        "         side='left'\n",
        "         max_eval=left_val\n",
        "    if tree.right:\n",
        "      right_val=dark_magic(tree.right,depth-1,alpha,beta,True)\n",
        "      if type(right_val)!=int:\n",
        "        side=right_val[0]\n",
        "        right_val=right_val[1]\n",
        "      if right_val>max_eval:\n",
        "         side='right'\n",
        "         max_eval=right_val\n",
        "    alpha=max(alpha,max_eval)\n",
        "    if beta<=alpha:\n",
        "      return max_eval\n",
        "    return side,max_eval\n",
        "\n",
        "def pacman(tree,cost):\n",
        "  real_cost=alpha_beta_pruning(tree,3,-float('inf'),float('inf'),True)\n",
        "  dark_magic_cost=dark_magic(tree,3,-float('inf'),float('inf'),True)[1]\n",
        "  side=dark_magic(tree,3,-float('inf'),float('inf'),True)[0]\n",
        "  if (int(dark_magic_cost)-cost)<real_cost:\n",
        "    print(f'The minimax value is {real_cost}. Pacman does not use dark magic')\n",
        "  else:\n",
        "    print(f'The new minimax value is {dark_magic_cost-cost}. Pacman goes {side} and uses dark magic')\n",
        "\n",
        "pacman(root,int(input()))"
      ],
      "metadata": {
        "colab": {
          "base_uri": "https://localhost:8080/"
        },
        "id": "4Y0FOH2qgQs6",
        "outputId": "e319e1ec-6ca9-405a-9991-83c5c9c54c39"
      },
      "execution_count": null,
      "outputs": [
        {
          "output_type": "stream",
          "name": "stdout",
          "text": [
            "5\n",
            "The minimax value is 3. Pacman does not use dark magic\n"
          ]
        }
      ]
    }
  ]
}