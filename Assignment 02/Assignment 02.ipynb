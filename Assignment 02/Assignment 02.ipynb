{
  "nbformat": 4,
  "nbformat_minor": 0,
  "metadata": {
    "colab": {
      "provenance": []
    },
    "kernelspec": {
      "name": "python3",
      "display_name": "Python 3"
    },
    "language_info": {
      "name": "python"
    }
  },
  "cells": [
    {
      "cell_type": "markdown",
      "source": [
        "Task1"
      ],
      "metadata": {
        "id": "QftPxvEic64D"
      }
    },
    {
      "cell_type": "code",
      "source": [
        "import random\n",
        "input_file = open('/content/input.txt', 'r')\n",
        "lines = input_file.readlines()\n",
        "n,t= int(lines[0][0]),int(lines[0][2]) #calculating course number and timeframe, as there is a space between two numbers thats why the index 2 have timeframe\n",
        "course=[]\n",
        "for i in range(1,len(lines)):\n",
        "  if i!=(len(lines)-1):\n",
        "    course.append(lines[i][:-1]) #Handling '/n'\n",
        "  else:\n",
        "    course.append(lines[i])\n",
        "\n",
        "def parent_create(n,t,population_size):\n",
        "  par_list=[]\n",
        "  while len(par_list)<population_size:\n",
        "    par=''\n",
        "    for j in range(n*t):\n",
        "      par+=str(random.randint(0,1))\n",
        "    if par not in par_list: #checking if the parent is already present\n",
        "      par_list.append(par)\n",
        "  return par_list\n",
        "\n",
        "def fitness_calc(parent,n,t):\n",
        "  overlap_penalty=0\n",
        "  consistent_penalty=0\n",
        "  timeslots=[]\n",
        "  course_count=[0]*n\n",
        "  for i in range(0,len(parent),t):\n",
        "    timeslots.append(parent[i:i+t]) #indexing to devide each timeslot based on the given number of timeslot(t)\n",
        "  for i in range(len(timeslots)):\n",
        "    pen=0\n",
        "    if timeslots[i].count('1')>1: #checking how many 1 (courses) in a single timeslot\n",
        "      count=timeslots[i].count('1')\n",
        "      pen=count-1 #penalty of two courses at a same time\n",
        "    overlap_penalty+=pen\n",
        "  for i in timeslots:\n",
        "    for j in range(len(i)):\n",
        "      if i[j]=='1': # checking how many times each courses are taken in the whole parent(total timeslot)\n",
        "        course_count[j]+=1\n",
        "  for i in course_count:\n",
        "    if i==0:\n",
        "      consistent_penalty+=1\n",
        "    elif i>1:\n",
        "      consistent_penalty+= i-1\n",
        "  return -(consistent_penalty+overlap_penalty)\n",
        "\n",
        "def check_fitness(parents,n,t):\n",
        "  parent_fitness=[]\n",
        "  for i in parents:\n",
        "    fit=fitness_calc(i,n,t)\n",
        "    parent_fitness.append((fit,i)) #taking as tuple first index will be fitness value and the second on will be parent so that I can sort it by the fitness value\n",
        "  parent_fitness.sort(reverse=False)\n",
        "  return parent_fitness\n",
        "\n",
        "def select_parent(parent):\n",
        "  parent.sort(reverse=True) #still sorting because during iteration the process of selecting a parent is inside the loop\n",
        "  parent1=parent[0][1]\n",
        "  parent2=parent[1][1]\n",
        "  parents=(parent1,parent2)\n",
        "  return parents\n",
        "\n",
        "def mutation(offspring1,offspring2):\n",
        "  index1=random.randint(0,len(offspring1)-1) #choosing random index1 and index2\n",
        "  index2=random.randint(0,len(offspring2)-1)\n",
        "  off_list1=[]\n",
        "  for i in range(len(offspring1)):\n",
        "    off_list1.append(offspring1[i]) #making list as i can't replace the value of an particular index of string\n",
        "  off_list2=[]\n",
        "  for i in range(len(offspring2)):\n",
        "    off_list2.append(offspring2[i])\n",
        "  if off_list1[index1]=='0':\n",
        "    off_list1[index1]='1' #changing the value of that random index if the value is 0 then we are changing it into 1 and vice versa\n",
        "  else:\n",
        "    off_list1[index1]='0'\n",
        "  if off_list2[index2]=='0':\n",
        "    off_list2[index2]='1'\n",
        "  else:\n",
        "    off_list2[index2]='0'\n",
        "  offspring1=''\n",
        "  offspring2=''\n",
        "  for i in off_list1:\n",
        "    offspring1+=i #generating the string offspring again\n",
        "  for i in off_list2:\n",
        "    offspring2+=i\n",
        "  return offspring1,offspring2\n",
        "\n",
        "def single_point_corssover(parent):\n",
        "  parent1=parent[0]\n",
        "  parent2=parent[1]\n",
        "  point=random.randint(1,len(parent1)-1) #choosing random index point\n",
        "  offspring1=parent1[:point]+parent2[point:]\n",
        "  offspring2=parent2[:point]+parent1[point:]\n",
        "  return offspring1,offspring2\n",
        "\n",
        "def genetic_algorithm(population_size,n,t,max_iteration=100):\n",
        "  parent_list=parent_create(n,t,population_size) #creating parents\n",
        "  parent_fitness=check_fitness(parent_list,n,t) #checking the fitness of initial population\n",
        "  for i in range(max_iteration):\n",
        "    parents=select_parent(parent_fitness) #selecting the parent with best two fitness\n",
        "    offspring1,offspring2=single_point_corssover(parents)\n",
        "    offspring1,offspring2=mutation(offspring1,offspring2)\n",
        "    offspring1_fitness=fitness_calc(offspring1,n,t) #calculating fitness of the offsprings\n",
        "    offspring2_fitness=fitness_calc(offspring2,n,t)\n",
        "    first_index= random.randint(0,len(parent_fitness)-1) #taking random index to replace them from the parent list\n",
        "    second_index= random.randint(0,len(parent_fitness)-1)\n",
        "\n",
        "    while True:\n",
        "      if first_index!=second_index: #handling the issue of both index being same\n",
        "        break\n",
        "      else:\n",
        "        second_index= random.randint(0,len(parent_fitness)-1)\n",
        "    if (offspring1_fitness,offspring1) not in parent_fitness: #checking if the parent is alreay in the parent list. and taking parent_fitness as we will get both parent and fitness and generated offsprings are replacing the old parents\n",
        "      parent_fitness[first_index]=(offspring1_fitness,offspring1)\n",
        "    if (offspring2_fitness,offspring2) not in parent_fitness:\n",
        "      parent_fitness[second_index]=(offspring2_fitness,offspring2)\n",
        "\n",
        "  return parent_fitness[0]\n",
        "\n",
        "fitness,parent= genetic_algorithm(10,n,t)\n",
        "print(f'{parent}\\n{fitness}')"
      ],
      "metadata": {
        "id": "M2FYRFGsCm2Y",
        "colab": {
          "base_uri": "https://localhost:8080/"
        },
        "outputId": "875eca7d-657e-4c44-a97b-53ae1d1f3f7d"
      },
      "execution_count": null,
      "outputs": [
        {
          "output_type": "stream",
          "name": "stdout",
          "text": [
            "011100000\n",
            "-1\n"
          ]
        }
      ]
    },
    {
      "cell_type": "markdown",
      "source": [
        "Task2"
      ],
      "metadata": {
        "id": "DFKKUn_gyGD1"
      }
    },
    {
      "cell_type": "code",
      "source": [
        "def two_point_corssover(parent):\n",
        "  parent1=parent[0]\n",
        "  parent2=parent[1]\n",
        "  point1=random.randint(1,len(parent1)//2) #first pointer\n",
        "  point2=random.randint(point1+1,len(parent1)) #second pointer\n",
        "  offspring1=parent1[:point1]+parent2[point1:point2]+parent1[point2:]\n",
        "  offspring2=parent2[:point1]+parent1[point1:point2]+parent2[point2:]\n",
        "  print(f'Index 1 = {point1} and Index 2= {point2}') #printing the pointers\n",
        "  return offspring1,offspring2 #newly generated offsprings after crossover\n",
        "def genetic_algorithm(population_size,n,t,max_iteration=100):\n",
        "  parent_list=parent_create(n,t,population_size)\n",
        "  parent_fitness=check_fitness(parent_list,n,t)\n",
        "  parent1=''\n",
        "  parent2=''\n",
        "  offspring1=''\n",
        "  offspring2=''\n",
        "  for i in range(max_iteration):\n",
        "    parents=select_parent(parent_fitness)\n",
        "    parent1=parents[0]\n",
        "    parent2=parents[1]\n",
        "    offspring1,offspring2=two_point_corssover(parents) #only two pointer crossover\n",
        "  return parent1,parent2,offspring1,offspring2\n",
        "\n",
        "parent1,parent2,offspring1,offspring2=genetic_algorithm(10,n,t,1) #just one time iteration\n",
        "print(f'Parent 1 = {parent1} and Parent 2 = {parent2}\\nOffspring 1 = {offspring1} and Offspring 2 = {offspring2}')"
      ],
      "metadata": {
        "colab": {
          "base_uri": "https://localhost:8080/"
        },
        "id": "-PqUQNdow6KI",
        "outputId": "7259ec12-9f25-4791-8ceb-bea633e1a53a"
      },
      "execution_count": null,
      "outputs": [
        {
          "output_type": "stream",
          "name": "stdout",
          "text": [
            "Index 1 = 3 and Index 2= 8\n",
            "Parent 1 = 100001000 and Parent 2 = 110001100\n",
            "Offspring 1 = 100001100 and Offspring 2= 110001000\n"
          ]
        }
      ]
    }
  ]
}